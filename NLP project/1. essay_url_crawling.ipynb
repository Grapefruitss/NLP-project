{
 "cells": [
  {
   "cell_type": "code",
   "execution_count": 1,
   "metadata": {},
   "outputs": [],
   "source": [
    "from selenium import webdriver\n",
    "from selenium.webdriver.common.by import By\n",
    "from selenium.webdriver.chrome.service import Service\n",
    "import time\n",
    "\n",
    "# 드라이버 경로 설정\n",
    "driver_path = r'.\\chromedriver-win64\\chromedriver.exe'"
   ]
  },
  {
   "cell_type": "code",
   "execution_count": 2,
   "metadata": {},
   "outputs": [],
   "source": [
    "options = webdriver.ChromeOptions()\n",
    "options.add_argument('--headless')\n",
    "options.add_argument('--no-sandbox')\n",
    "options.add_argument('--disable-dev-shm-usage')\n",
    "s = Service(driver_path)\n",
    "driver = webdriver.Chrome(service=s, options=options)"
   ]
  },
  {
   "cell_type": "code",
   "execution_count": 3,
   "metadata": {},
   "outputs": [],
   "source": [
    "# 합격 자소서 게시판 -> 지원분야 : 개발·데이터 -> 전문가 분석 보기 -> 평점 높은순 : 총 323건 \n",
    "url_list = ['https://www.jobkorea.co.kr/starter/PassAssay?FavorCo_Stat=0&Pass_An_Stat=1&OrderBy=2&EduType=0&WorkType=0&schPart=10031&isSaved=1&Page=' + str(x) for x in range(1, 18)]\n",
    "links = []\n",
    "for url in url_list:\n",
    "    driver.get(url)\n",
    "    time.sleep(3)\n",
    "    question_items = driver.find_elements(By.CSS_SELECTOR, 'div.item.question')\n",
    "    for item in question_items:\n",
    "        a_tag = item.find_element(By.TAG_NAME, 'a')\n",
    "        href = a_tag.get_attribute('href')\n",
    "        links.append(href)\n",
    "\n",
    "driver.quit()"
   ]
  },
  {
   "cell_type": "code",
   "execution_count": 5,
   "metadata": {},
   "outputs": [
    {
     "data": {
      "text/plain": [
       "323"
      ]
     },
     "execution_count": 5,
     "metadata": {},
     "output_type": "execute_result"
    }
   ],
   "source": [
    "len(links) # 자소서가 323개 모두 가져와졌는지 확인"
   ]
  },
  {
   "cell_type": "code",
   "execution_count": 7,
   "metadata": {},
   "outputs": [
    {
     "name": "stdout",
     "output_type": "stream",
     "text": [
      "urls.csv 작성 완료\n"
     ]
    }
   ],
   "source": [
    "# url list를 csv 파일로 저장\n",
    "import csv\n",
    "\n",
    "file_name = 'urls.csv'\n",
    "with open(file_name, 'a', newline='') as file:\n",
    "    writer = csv.writer(file)\n",
    "    for link in links:\n",
    "        writer.writerow([link])\n",
    "        \n",
    "print(f'{file_name} 작성 완료')"
   ]
  },
  {
   "cell_type": "code",
   "execution_count": null,
   "metadata": {},
   "outputs": [],
   "source": []
  }
 ],
 "metadata": {
  "kernelspec": {
   "display_name": "base",
   "language": "python",
   "name": "python3"
  },
  "language_info": {
   "codemirror_mode": {
    "name": "ipython",
    "version": 3
   },
   "file_extension": ".py",
   "mimetype": "text/x-python",
   "name": "python",
   "nbconvert_exporter": "python",
   "pygments_lexer": "ipython3",
   "version": "3.11.7"
  }
 },
 "nbformat": 4,
 "nbformat_minor": 2
}
