{
 "cells": [
  {
   "cell_type": "code",
   "execution_count": 8,
   "id": "229113d1-4157-411d-8731-772e475651f9",
   "metadata": {},
   "outputs": [],
   "source": [
    "import csv\n",
    "import pandas as pd\n",
    "import random as rd\n",
    "from sklearn.model_selection import train_test_split\n",
    "from sklearn.preprocessing import LabelEncoder\n",
    "from nltk.tokenize import word_tokenize"
   ]
  },
  {
   "cell_type": "code",
   "execution_count": 3,
   "id": "91d32ea3-daed-42ac-bc0d-59c02bb3bdca",
   "metadata": {},
   "outputs": [],
   "source": [
    "file_path = r'C:\\\\Users\\\\user\\\\Desktop\\\\hansol\\\\3rd_project\\\\NLP_new_\\\\NLP-project\\\\NLP project\\\\crawling_data\\\\(new)korean1-317.csv'\n",
    "\n",
    "with open(file_path, 'r', encoding='utf-8') as file :\n",
    "    raw_cv = csv.reader(file)\n",
    "    c = list(raw_cv)"
   ]
  },
  {
   "cell_type": "code",
   "execution_count": 4,
   "id": "daa01f56-6efd-493d-9656-e27662f5e1f7",
   "metadata": {},
   "outputs": [],
   "source": [
    "cover_letter = pd.DataFrame(data = c, columns=['text'])\n",
    "cover_letter['합격여부']='합격'\n",
    "cover_letter.loc[178:, '합격여부'] = '불합격'"
   ]
  },
  {
   "cell_type": "code",
   "execution_count": 6,
   "id": "de835572-78af-4d4f-b588-0e3f2caa0c08",
   "metadata": {},
   "outputs": [],
   "source": [
    "star1n2 = cover_letter.iloc[-76:] # 평점 2점까지( 갯수 균형 맞추기 )\n",
    "star4n5 = cover_letter.iloc[:77] # 평점 4점까지\n",
    "# star1n2 = cover_letter.iloc[-142:] # 평점 2점까지"
   ]
  },
  {
   "cell_type": "code",
   "execution_count": 14,
   "id": "20a1b16c",
   "metadata": {},
   "outputs": [
    {
     "name": "stdout",
     "output_type": "stream",
     "text": [
      "[]\n"
     ]
    }
   ],
   "source": [
    "pick_n = rd.sample(range(176,302), 62) # 2점 자소서 62개의 행 번호 추출\n",
    "star1 = cover_letter.iloc[-15:]\n",
    "\n",
    "star2 = []\n",
    "for i, text in enumerate(cover_letter) :\n",
    "    if i in pick_n:\n",
    "        star2.append(text)\n",
    "\n",
    "print(star2)"
   ]
  },
  {
   "cell_type": "code",
   "execution_count": null,
   "id": "99be13ca",
   "metadata": {},
   "outputs": [],
   "source": [
    "star12n45 = pd.concat([star1n2,star4n5])\n",
    "\n",
    "print(star12n45)"
   ]
  },
  {
   "cell_type": "code",
   "execution_count": 6,
   "id": "2fd8d1fb-6229-4d6f-9b77-591ab2bdb960",
   "metadata": {},
   "outputs": [],
   "source": [
    "texts = star12n45['text'].astype(str).tolist() # 평점이 12 vs 45\n",
    "labels = star12n45['합격여부'].tolist()"
   ]
  },
  {
   "cell_type": "code",
   "execution_count": 7,
   "id": "e2decb76-127e-4f41-b2f6-014909b99859",
   "metadata": {},
   "outputs": [],
   "source": [
    "label_encoder = LabelEncoder()\n",
    "encoded_labels = label_encoder.fit_transform(labels)"
   ]
  },
  {
   "cell_type": "code",
   "execution_count": 8,
   "id": "ff6ef6f3-667f-4e9b-bc16-61fdec031834",
   "metadata": {},
   "outputs": [],
   "source": [
    "X_train, X_test, y_train, y_test = train_test_split(texts, encoded_labels, test_size=0.2, random_state=123)"
   ]
  },
  {
   "cell_type": "code",
   "execution_count": 9,
   "id": "32f240f6-04a8-44b3-9dd3-1d2fd80b8859",
   "metadata": {},
   "outputs": [],
   "source": [
    "from gensim.models.doc2vec import Doc2Vec, TaggedDocument"
   ]
  },
  {
   "cell_type": "code",
   "execution_count": 10,
   "id": "25b77477-449f-4da6-808a-821ca98b58ff",
   "metadata": {},
   "outputs": [],
   "source": [
    "tagged_data = [TaggedDocument(words=word_tokenize(doc.lower()), tags=[str(i)]) for i, doc in enumerate(X_train)]"
   ]
  },
  {
   "cell_type": "code",
   "execution_count": 11,
   "id": "da06ab1c-76b3-41e9-b720-dbd1f3acf4e7",
   "metadata": {},
   "outputs": [],
   "source": [
    "# Doc2Vec 모델 설정 및 학습\n",
    "doc2vec_model = Doc2Vec(\n",
    "    vector_size=100,  # 벡터 차원 수\n",
    "    window=5,         # 컨텍스트 윈도우 크기\n",
    "    min_count=2,      # 최소 출현 빈도\n",
    "    workers=4,        # 사용 스레드 수\n",
    "    epochs=40,        # 학습 반복 횟수\n",
    "    dm=1              # DM 모델 사용\n",
    ")"
   ]
  },
  {
   "cell_type": "code",
   "execution_count": 12,
   "id": "bc982e0e-99e9-4d80-853e-78919d920bf0",
   "metadata": {},
   "outputs": [],
   "source": [
    "doc2vec_model.build_vocab(tagged_data)\n",
    "doc2vec_model.train(tagged_data, total_examples=doc2vec_model.corpus_count, epochs=doc2vec_model.epochs)"
   ]
  },
  {
   "cell_type": "code",
   "execution_count": 13,
   "id": "a307ca83-f086-4853-af5e-5530f13ce598",
   "metadata": {},
   "outputs": [
    {
     "name": "stdout",
     "output_type": "stream",
     "text": [
      "              precision    recall  f1-score   support\n",
      "\n",
      "         불합격       0.80      0.80      0.80        15\n",
      "          합격       0.81      0.81      0.81        16\n",
      "\n",
      "    accuracy                           0.81        31\n",
      "   macro avg       0.81      0.81      0.81        31\n",
      "weighted avg       0.81      0.81      0.81        31\n",
      "\n"
     ]
    }
   ],
   "source": [
    "from sklearn.ensemble import RandomForestClassifier\n",
    "from sklearn.metrics import classification_report\n",
    "\n",
    "X_train_vectors = [doc2vec_model.infer_vector(word_tokenize(doc.lower())) for doc in X_train]\n",
    "X_test_vectors = [doc2vec_model.infer_vector(word_tokenize(doc.lower())) for doc in X_test]\n",
    "\n",
    "classifier = RandomForestClassifier(n_estimators=100, random_state=123)\n",
    "classifier.fit(X_train_vectors, y_train)\n",
    "\n",
    "y_pred = classifier.predict(X_test_vectors)\n",
    "\n",
    "print(classification_report(y_test, y_pred, target_names=label_encoder.classes_))"
   ]
  },
  {
   "cell_type": "code",
   "execution_count": 14,
   "id": "7e8ea2db-7f30-4d0f-937d-2ecb7bcc08ff",
   "metadata": {},
   "outputs": [
    {
     "name": "stdout",
     "output_type": "stream",
     "text": [
      "Fitting 3 folds for each of 162 candidates, totalling 486 fits\n",
      "Best parameters found:  {'max_depth': 10, 'max_features': 'sqrt', 'min_samples_leaf': 1, 'min_samples_split': 10, 'n_estimators': 100}\n",
      "              precision    recall  f1-score   support\n",
      "\n",
      "           0       0.65      0.73      0.69        15\n",
      "           1       0.71      0.62      0.67        16\n",
      "\n",
      "    accuracy                           0.68        31\n",
      "   macro avg       0.68      0.68      0.68        31\n",
      "weighted avg       0.68      0.68      0.68        31\n",
      "\n"
     ]
    }
   ],
   "source": [
    "from sklearn.model_selection import GridSearchCV\n",
    "\n",
    "rf = RandomForestClassifier(random_state=123)\n",
    "\n",
    "param_grid = {\n",
    "    'n_estimators': [100, 200, 300], # 생성할 트리 개수\n",
    "    'max_depth': [10, 20, 30], # 각 트리의 최대 깊이\n",
    "    'min_samples_split': [2, 5, 10], # 내부 노드 분할 시 필요한 최소 샘플 수\n",
    "    'min_samples_leaf': [1, 2, 4], # 리프 노드 최소 샘플 수\n",
    "    'max_features': ['sqrt', 'log2'] #  각 트리를 분할할 때 고려할 최대 특징 수입니다. 제곱근(sqrt)과 로그(log2) 값 사용\n",
    "}\n",
    "\n",
    "grid_search = GridSearchCV(estimator=rf,\n",
    "                           param_grid=param_grid,\n",
    "                           cv=3,  # 교차 검증 3번\n",
    "                           n_jobs=-1,  # 가능한 모든 프로세서를 사용하여 병렬 처리를 수행\n",
    "                           verbose=2)  # 진행 상황을 출력\n",
    "\n",
    "grid_search.fit(X_train_vectors, y_train)\n",
    "\n",
    "print(\"Best parameters found: \", grid_search.best_params_)\n",
    "\n",
    "best_rf = grid_search.best_estimator_\n",
    "y_pred = best_rf.predict(X_test_vectors)\n",
    "\n",
    "print(classification_report(y_test, y_pred))"
   ]
  },
  {
   "cell_type": "code",
   "execution_count": 15,
   "id": "23da3b38-39ff-4c8d-b267-0cbad8016442",
   "metadata": {},
   "outputs": [
    {
     "name": "stdout",
     "output_type": "stream",
     "text": [
      "Fitting 3 folds for each of 100 candidates, totalling 300 fits\n",
      "Best parameters found:  {'max_depth': 40, 'max_features': 'sqrt', 'min_samples_leaf': 1, 'min_samples_split': 9, 'n_estimators': 176}\n",
      "              precision    recall  f1-score   support\n",
      "\n",
      "           0       0.73      0.73      0.73        15\n",
      "           1       0.75      0.75      0.75        16\n",
      "\n",
      "    accuracy                           0.74        31\n",
      "   macro avg       0.74      0.74      0.74        31\n",
      "weighted avg       0.74      0.74      0.74        31\n",
      "\n"
     ]
    }
   ],
   "source": [
    "from sklearn.model_selection import RandomizedSearchCV\n",
    "from scipy.stats import randint\n",
    "\n",
    "rf = RandomForestClassifier(random_state=123)\n",
    "\n",
    "param_dist = {\n",
    "    'n_estimators': randint(100, 500),\n",
    "    'max_depth': randint(10, 50),\n",
    "    'min_samples_split': randint(2, 11),\n",
    "    'min_samples_leaf': randint(1, 5),\n",
    "    'max_features': ['sqrt', 'log2']\n",
    "}\n",
    "\n",
    "random_search = RandomizedSearchCV(estimator=rf, param_distributions=param_dist, n_iter=100, cv=3, n_jobs=-1, random_state=123, verbose=2)\n",
    "\n",
    "random_search.fit(X_train_vectors, y_train)\n",
    "\n",
    "print(\"Best parameters found: \", random_search.best_params_)\n",
    "\n",
    "best_rf = random_search.best_estimator_\n",
    "y_pred = best_rf.predict(X_test_vectors)\n",
    "\n",
    "print(classification_report(y_test, y_pred))"
   ]
  },
  {
   "cell_type": "code",
   "execution_count": 16,
   "id": "b2c16abd-edc8-4007-a2e1-d436284314eb",
   "metadata": {},
   "outputs": [
    {
     "name": "stdout",
     "output_type": "stream",
     "text": [
      "              precision    recall  f1-score   support\n",
      "\n",
      "         불합격       0.69      0.60      0.64        15\n",
      "          합격       0.67      0.75      0.71        16\n",
      "\n",
      "    accuracy                           0.68        31\n",
      "   macro avg       0.68      0.68      0.67        31\n",
      "weighted avg       0.68      0.68      0.68        31\n",
      "\n"
     ]
    }
   ],
   "source": [
    "from sklearn.svm import SVC # SVM\n",
    "\n",
    "svm_cf = SVC(kernel='linear', random_state=123)\n",
    "svm_cf.fit(X_train_vectors, y_train)\n",
    "\n",
    "y_pred_svm = svm_cf.predict(X_test_vectors)\n",
    "print(classification_report(y_test, y_pred_svm, target_names=label_encoder.classes_))"
   ]
  },
  {
   "cell_type": "code",
   "execution_count": 17,
   "id": "843f1736-7e02-4730-a3a0-c39ff664817a",
   "metadata": {},
   "outputs": [
    {
     "name": "stdout",
     "output_type": "stream",
     "text": [
      "              precision    recall  f1-score   support\n",
      "\n",
      "         불합격       0.71      0.80      0.75        15\n",
      "          합격       0.79      0.69      0.73        16\n",
      "\n",
      "    accuracy                           0.74        31\n",
      "   macro avg       0.75      0.74      0.74        31\n",
      "weighted avg       0.75      0.74      0.74        31\n",
      "\n"
     ]
    }
   ],
   "source": [
    "from sklearn.ensemble import VotingClassifier # 앙상블\n",
    "\n",
    "voting_classifier = VotingClassifier(estimators=[\n",
    "    ('rf', classifier),\n",
    "    ('svc', svm_cf)\n",
    "], voting='hard')\n",
    "\n",
    "voting_classifier.fit(X_train_vectors, y_train)\n",
    "y_pred_voting = voting_classifier.predict(X_test_vectors)\n",
    "print(classification_report(y_test, y_pred_voting, target_names=label_encoder.classes_))"
   ]
  },
  {
   "cell_type": "code",
   "execution_count": null,
   "id": "f87e9150-ba1b-4bfe-b5f2-d921b7e0af52",
   "metadata": {},
   "outputs": [],
   "source": []
  },
  {
   "cell_type": "code",
   "execution_count": null,
   "id": "78829f8e-8d47-4394-9a1c-cede8d7b05df",
   "metadata": {},
   "outputs": [],
   "source": []
  },
  {
   "cell_type": "code",
   "execution_count": null,
   "id": "c45708c0-b6ff-470d-802d-1d4cbae64eed",
   "metadata": {},
   "outputs": [],
   "source": []
  }
 ],
 "metadata": {
  "kernelspec": {
   "display_name": "Python 3 (ipykernel)",
   "language": "python",
   "name": "python3"
  },
  "language_info": {
   "codemirror_mode": {
    "name": "ipython",
    "version": 3
   },
   "file_extension": ".py",
   "mimetype": "text/x-python",
   "name": "python",
   "nbconvert_exporter": "python",
   "pygments_lexer": "ipython3",
   "version": "3.11.7"
  }
 },
 "nbformat": 4,
 "nbformat_minor": 5
}
