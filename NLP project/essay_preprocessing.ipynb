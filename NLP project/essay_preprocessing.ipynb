{
 "cells": [
  {
   "cell_type": "code",
   "execution_count": 17,
   "metadata": {},
   "outputs": [],
   "source": [
    "import re\n",
    "import csv"
   ]
  },
  {
   "cell_type": "code",
   "execution_count": 18,
   "metadata": {},
   "outputs": [],
   "source": [
    "file_path = r'.\\crawling_data\\translated_merged.csv'\n",
    "\n",
    "# 자소서 리스트화\n",
    "documents = []\n",
    "with open(file_path, 'r') as f:\n",
    "    reader = csv.reader(f)\n",
    "    for row in reader:\n",
    "        documents.append(row[0])"
   ]
  },
  {
   "cell_type": "code",
   "execution_count": 19,
   "metadata": {},
   "outputs": [],
   "source": [
    "documents_corpus = []\n",
    "for i in range(len(documents)):\n",
    "    document = documents[i].lower()                        # 소문자화\n",
    "    document = re.sub(r'\\W', ' ', document)                # 알파벳, 숫자 제외 한 특수문자 제거\n",
    "    document = re.sub(r'\\d', ' ', document)\n",
    "    document = re.sub(r'_', ' ', document)                 # '_' 제거\n",
    "    document = re.sub(r'\\s+', ' ', document)               # 잉여 space 제거.\n",
    "    document = re.sub(\",|\\n|@|:\", \"\", document)            # 쉼표, \\n, @ 제거\n",
    "    document = re.sub(r'[\\[\\]\\(\\)\\{\\}]', '', document)     # 괄호 제거\n",
    "    document = re.sub(r'^\\s+', '', document)               # 공백으로 시작하는 문서들의 공백 제거\n",
    "    documents_corpus.append(document)"
   ]
  },
  {
   "cell_type": "code",
   "execution_count": 20,
   "metadata": {},
   "outputs": [],
   "source": [
    "with open('preprocessed_essay.csv', 'w', newline='') as f:\n",
    "    writer = csv.writer(f)\n",
    "    for essay in documents_corpus:\n",
    "        writer.writerow([essay])"
   ]
  },
  {
   "cell_type": "code",
   "execution_count": null,
   "metadata": {},
   "outputs": [],
   "source": []
  }
 ],
 "metadata": {
  "kernelspec": {
   "display_name": "base",
   "language": "python",
   "name": "python3"
  },
  "language_info": {
   "codemirror_mode": {
    "name": "ipython",
    "version": 3
   },
   "file_extension": ".py",
   "mimetype": "text/x-python",
   "name": "python",
   "nbconvert_exporter": "python",
   "pygments_lexer": "ipython3",
   "version": "3.11.7"
  }
 },
 "nbformat": 4,
 "nbformat_minor": 2
}
