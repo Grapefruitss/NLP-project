{
 "cells": [
  {
   "cell_type": "code",
   "execution_count": 1,
   "id": "229113d1-4157-411d-8731-772e475651f9",
   "metadata": {},
   "outputs": [],
   "source": [
    "import csv\n",
    "import pandas as pd\n",
    "from sklearn.model_selection import train_test_split\n",
    "from sklearn.preprocessing import LabelEncoder"
   ]
  },
  {
   "cell_type": "code",
   "execution_count": null,
   "id": "91d32ea3-daed-42ac-bc0d-59c02bb3bdca",
   "metadata": {},
   "outputs": [],
   "source": [
    "file_path = r'C:\\\\Users\\\\user\\\\Desktop\\\\hansol\\\\3rd_project\\\\NLP_new_\\\\NLP-project\\\\NLP project\\\\crawling_data\\\\(new)korean1-317.csv'\n",
    "\n",
    "with open(file_path, 'r', encoding='utf-8') as file :\n",
    "    raw_cv = csv.reader(file)\n",
    "    c = list(raw_cv)\n",
    "\n",
    "for row in c:\n",
    "    print(row)"
   ]
  },
  {
   "cell_type": "code",
   "execution_count": 3,
   "id": "daa01f56-6efd-493d-9656-e27662f5e1f7",
   "metadata": {},
   "outputs": [],
   "source": [
    "cover_letter = pd.DataFrame(data = c, columns=['text'])\n",
    "cover_letter['합격여부']='합격'\n",
    "cover_letter.loc[178:, '합격여부'] = '불합격'"
   ]
  },
  {
   "cell_type": "code",
   "execution_count": null,
   "id": "53c079f4-9557-4933-bf93-9edb50624db5",
   "metadata": {},
   "outputs": [],
   "source": [
    "first_22 = cover_letter.iloc[:22] # 평점이 5점인 자소서\n",
    "last_15 = cover_letter.iloc[-15:] # 평점이 1점인 자소서\n",
    "\n",
    "star1n5 = pd.concat([first_22, last_15])\n",
    "\n",
    "print(star1n5)"
   ]
  },
  {
   "cell_type": "code",
   "execution_count": 5,
   "id": "2dcfbbe7-e5e9-4cad-880c-41ac9e2b41c9",
   "metadata": {},
   "outputs": [],
   "source": [
    "texts = star1n5['text'].astype(str).tolist()\n",
    "labels = star1n5['합격여부'].tolist()"
   ]
  },
  {
   "cell_type": "code",
   "execution_count": 6,
   "id": "e2decb76-127e-4f41-b2f6-014909b99859",
   "metadata": {},
   "outputs": [],
   "source": [
    "label_encoder = LabelEncoder()\n",
    "encoded_labels = label_encoder.fit_transform(labels)"
   ]
  },
  {
   "cell_type": "code",
   "execution_count": 7,
   "id": "ff6ef6f3-667f-4e9b-bc16-61fdec031834",
   "metadata": {},
   "outputs": [],
   "source": [
    "X_train, X_test, y_train, y_test = train_test_split(texts, encoded_labels, test_size=0.2, random_state=123)"
   ]
  },
  {
   "cell_type": "code",
   "execution_count": 8,
   "id": "5b5ecb70-e022-4798-af28-3e64c1439f03",
   "metadata": {},
   "outputs": [],
   "source": [
    "# Doc2Vec 모델 학습\n",
    "from gensim.models.doc2vec import Doc2Vec, TaggedDocument\n",
    "from nltk.tokenize import word_tokenize\n",
    "import nltk\n",
    "import re\n",
    "\n",
    "# nltk.download('punkt')"
   ]
  },
  {
   "cell_type": "code",
   "execution_count": 9,
   "id": "dc26e302-e3e0-439f-8e91-22c2a07e9a0f",
   "metadata": {},
   "outputs": [],
   "source": [
    "def nr_text(texts):\n",
    "    n_min = 2\n",
    "    corpus = []\n",
    "    for a_line in texts :\n",
    "        pre = re.sub(r'\\W', ' ', a_line)\n",
    "        pre = re.sub(r'_', ' ', pre)\n",
    "        pre = re.sub(r'\\d+','', pre) \n",
    "        pre = nltk.word_tokenize(pre)\n",
    "        pre = [x for x in pre if len(x) >= n_min]\n",
    "        corpus += pre\n",
    "    return corpus"
   ]
  },
  {
   "cell_type": "code",
   "execution_count": null,
   "id": "c56daaa3-d1ba-490d-bfe9-d4404c4f1e03",
   "metadata": {},
   "outputs": [],
   "source": [
    "tkned_text = nr_text(texts)\n",
    "tkned_text"
   ]
  },
  {
   "cell_type": "code",
   "execution_count": 11,
   "id": "be3194ee-cd56-49f2-8b9c-b055abd1d474",
   "metadata": {},
   "outputs": [],
   "source": [
    "# TaggedDocument 생성\n",
    "tagged_data = [TaggedDocument(words=nouns, tags=[str(i)]) for i, nouns in enumerate(tkned_text)]\n",
    "\n",
    "# Doc2Vec 모델 학습\n",
    "doc2vec_model = Doc2Vec(vector_size=50, window=2, min_count=1, workers=4, epochs=100)\n",
    "doc2vec_model.build_vocab(tagged_data)\n",
    "doc2vec_model.train(tagged_data, total_examples=doc2vec_model.corpus_count, epochs=doc2vec_model.epochs)"
   ]
  },
  {
   "cell_type": "code",
   "execution_count": 12,
   "id": "a307ca83-f086-4853-af5e-5530f13ce598",
   "metadata": {},
   "outputs": [
    {
     "name": "stdout",
     "output_type": "stream",
     "text": [
      "              precision    recall  f1-score   support\n",
      "\n",
      "         불합격       1.00      0.67      0.80         3\n",
      "          합격       0.83      1.00      0.91         5\n",
      "\n",
      "    accuracy                           0.88         8\n",
      "   macro avg       0.92      0.83      0.85         8\n",
      "weighted avg       0.90      0.88      0.87         8\n",
      "\n"
     ]
    }
   ],
   "source": [
    "# 벡터화 및 분류 모델 학습\n",
    "from sklearn.ensemble import RandomForestClassifier\n",
    "from sklearn.metrics import classification_report\n",
    "\n",
    "# 학습 데이터 벡터화\n",
    "X_train_vectors = [doc2vec_model.infer_vector(word_tokenize(doc.lower())) for doc in X_train]\n",
    "X_test_vectors = [doc2vec_model.infer_vector(word_tokenize(doc.lower())) for doc in X_test]\n",
    "\n",
    "# 분류 모델 학습\n",
    "classifier = RandomForestClassifier(n_estimators=100, random_state=123)\n",
    "classifier.fit(X_train_vectors, y_train)\n",
    "\n",
    "# 예측\n",
    "y_pred = classifier.predict(X_test_vectors)\n",
    "\n",
    "# 평가\n",
    "print(classification_report(y_test, y_pred, target_names=label_encoder.classes_))"
   ]
  },
  {
   "cell_type": "code",
   "execution_count": 13,
   "id": "7e8ea2db-7f30-4d0f-937d-2ecb7bcc08ff",
   "metadata": {},
   "outputs": [
    {
     "name": "stdout",
     "output_type": "stream",
     "text": [
      "Fitting 3 folds for each of 162 candidates, totalling 486 fits\n",
      "Best parameters found:  {'max_depth': 10, 'max_features': 'sqrt', 'min_samples_leaf': 2, 'min_samples_split': 2, 'n_estimators': 100}\n",
      "              precision    recall  f1-score   support\n",
      "\n",
      "           0       1.00      1.00      1.00         3\n",
      "           1       1.00      1.00      1.00         5\n",
      "\n",
      "    accuracy                           1.00         8\n",
      "   macro avg       1.00      1.00      1.00         8\n",
      "weighted avg       1.00      1.00      1.00         8\n",
      "\n"
     ]
    }
   ],
   "source": [
    "from sklearn.model_selection import GridSearchCV\n",
    "\n",
    "rf = RandomForestClassifier(random_state=123)\n",
    "\n",
    "param_grid = {\n",
    "    'n_estimators': [100, 200, 300], # 트리 개수\n",
    "    'max_depth': [10, 20, 30], # 트리 최대 깊이\n",
    "    'min_samples_split': [2, 5, 10], # 노드 분할 시 필요한 최소 샘플 수\n",
    "    'min_samples_leaf': [1, 2, 4], # 리프 노드 최소 샘플 수\n",
    "    'max_features': ['sqrt', 'log2'] #  트리 분할 할때 고려- 제곱근(sqrt)과 로그(log2) 값 사용\n",
    "}\n",
    "\n",
    "grid_search = GridSearchCV(estimator=rf,\n",
    "                           param_grid=param_grid,\n",
    "                           cv=3,  # 교차 검증 3번\n",
    "                           n_jobs=-1,  # 가능한 모든 프로세서를 사용하여 병렬 처리를 수행\n",
    "                           verbose=2)  # 진행 상황을 출력\n",
    "\n",
    "grid_search.fit(X_train_vectors, y_train)\n",
    "\n",
    "print(\"Best parameters found: \", grid_search.best_params_)\n",
    "\n",
    "best_rf = grid_search.best_estimator_\n",
    "y_pred = best_rf.predict(X_test_vectors)\n",
    "\n",
    "print(classification_report(y_test, y_pred))"
   ]
  },
  {
   "cell_type": "code",
   "execution_count": 14,
   "id": "23da3b38-39ff-4c8d-b267-0cbad8016442",
   "metadata": {},
   "outputs": [
    {
     "name": "stdout",
     "output_type": "stream",
     "text": [
      "Fitting 3 folds for each of 100 candidates, totalling 300 fits\n",
      "Best parameters found:  {'max_depth': 28, 'max_features': 'sqrt', 'min_samples_leaf': 4, 'min_samples_split': 6, 'n_estimators': 170}\n",
      "              precision    recall  f1-score   support\n",
      "\n",
      "           0       1.00      1.00      1.00         3\n",
      "           1       1.00      1.00      1.00         5\n",
      "\n",
      "    accuracy                           1.00         8\n",
      "   macro avg       1.00      1.00      1.00         8\n",
      "weighted avg       1.00      1.00      1.00         8\n",
      "\n"
     ]
    }
   ],
   "source": [
    "# Random Search를 이용하여 하이퍼파라미터를 튜닝\n",
    "from sklearn.model_selection import RandomizedSearchCV\n",
    "from scipy.stats import randint\n",
    "\n",
    "# 랜덤 포레스트 분류기 초기화\n",
    "rf = RandomForestClassifier(random_state=123)\n",
    "\n",
    "# 하이퍼파라미터 분포 설정\n",
    "param_dist = {\n",
    "    'n_estimators': randint(100, 500),\n",
    "    'max_depth': randint(10, 50),\n",
    "    'min_samples_split': randint(2, 11),\n",
    "    'min_samples_leaf': randint(1, 5),\n",
    "    'max_features': ['sqrt', 'log2']\n",
    "}\n",
    "\n",
    "# Random Search 설정\n",
    "random_search = RandomizedSearchCV(estimator=rf, param_distributions=param_dist, n_iter=100, cv=3, n_jobs=-1, random_state=123, verbose=2)\n",
    "\n",
    "# 학습 데이터로 Random Search 수행\n",
    "random_search.fit(X_train_vectors, y_train)\n",
    "\n",
    "# 최적의 하이퍼파라미터 출력\n",
    "print(\"Best parameters found: \", random_search.best_params_)\n",
    "\n",
    "# 최적의 모델로 테스트 데이터 예측\n",
    "best_rf = random_search.best_estimator_\n",
    "y_pred = best_rf.predict(X_test_vectors)\n",
    "\n",
    "# 성능 평가\n",
    "print(classification_report(y_test, y_pred))"
   ]
  },
  {
   "cell_type": "code",
   "execution_count": null,
   "id": "b2c16abd-edc8-4007-a2e1-d436284314eb",
   "metadata": {},
   "outputs": [],
   "source": []
  },
  {
   "cell_type": "code",
   "execution_count": null,
   "id": "843f1736-7e02-4730-a3a0-c39ff664817a",
   "metadata": {},
   "outputs": [],
   "source": []
  },
  {
   "cell_type": "code",
   "execution_count": null,
   "id": "f87e9150-ba1b-4bfe-b5f2-d921b7e0af52",
   "metadata": {},
   "outputs": [],
   "source": []
  },
  {
   "cell_type": "code",
   "execution_count": null,
   "id": "78829f8e-8d47-4394-9a1c-cede8d7b05df",
   "metadata": {},
   "outputs": [],
   "source": []
  },
  {
   "cell_type": "code",
   "execution_count": null,
   "id": "c45708c0-b6ff-470d-802d-1d4cbae64eed",
   "metadata": {},
   "outputs": [],
   "source": []
  }
 ],
 "metadata": {
  "kernelspec": {
   "display_name": "Python 3 (ipykernel)",
   "language": "python",
   "name": "python3"
  },
  "language_info": {
   "codemirror_mode": {
    "name": "ipython",
    "version": 3
   },
   "file_extension": ".py",
   "mimetype": "text/x-python",
   "name": "python",
   "nbconvert_exporter": "python",
   "pygments_lexer": "ipython3",
   "version": "3.11.7"
  }
 },
 "nbformat": 4,
 "nbformat_minor": 5
}
