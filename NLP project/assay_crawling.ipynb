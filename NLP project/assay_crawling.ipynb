{
 "cells": [
  {
   "cell_type": "code",
   "execution_count": null,
   "metadata": {},
   "outputs": [],
   "source": [
    "import time\n",
    "from selenium import webdriver\n",
    "from selenium.webdriver.chrome.service import Service\n",
    "from selenium.webdriver.common.keys import Keys\n",
    "from selenium.webdriver.common.by import By\n",
    "\n",
    "# 드라이버 경로 설정\n",
    "driver_path = r'C:\\Users\\user\\Desktop\\NLP project\\chromedriver-win64\\chromedriver.exe'"
   ]
  },
  {
   "cell_type": "code",
   "execution_count": null,
   "metadata": {},
   "outputs": [],
   "source": [
    "# 드라이버 옵션 - 브라우저 실행하지 않고 크롤링\n",
    "options = webdriver.ChromeOptions()\n",
    "options.add_argument('--headless')\n",
    "\n",
    "# 드라이버 옵션 적용\n",
    "s = Service(driver_path)\n",
    "driver = webdriver.Chrome(service=s, options=options)"
   ]
  },
  {
   "cell_type": "code",
   "execution_count": null,
   "metadata": {},
   "outputs": [],
   "source": [
    "# 합격 자소서 게시판 리스트화 후 각 리스트에서 각 자소서들의 링크만 수집\n",
    "url_list = ['https://www.jobkorea.co.kr/starter/PassAssay?FavorCo_Stat=0&Pass_An_Stat=0&OrderBy=0&EduType=0&WorkType=0&schPart=1000232%2C1000236%2C1000237%2C1000239%2C1000242&isSaved=1&Page=' + str(x) x for in range(1, 24)]\n",
    "links = []\n",
    "for url in url_list:\n",
    "    driver.get(url)\n",
    "    time.sleep(3)\n",
    "    question_items = driver.find_elements(By.CSS_SELECTOR, 'div.item.question')\n",
    "    for item in question_items:\n",
    "        a_tag = item.find_element(By.TAG_NAME, 'a')\n",
    "        href = a_tag.get_attribute('href')\n",
    "        links.append(href)\n",
    "\n",
    "driver.quit()\n",
    "links"
   ]
  },
  {
   "cell_type": "code",
   "execution_count": null,
   "metadata": {},
   "outputs": [],
   "source": [
    "len(links)"
   ]
  },
  {
   "cell_type": "code",
   "execution_count": null,
   "metadata": {},
   "outputs": [],
   "source": []
  }
 ],
 "metadata": {
  "kernelspec": {
   "display_name": "base",
   "language": "python",
   "name": "python3"
  },
  "language_info": {
   "codemirror_mode": {
    "name": "ipython",
    "version": 3
   },
   "file_extension": ".py",
   "mimetype": "text/x-python",
   "name": "python",
   "nbconvert_exporter": "python",
   "pygments_lexer": "ipython3",
   "version": "3.11.7"
  }
 },
 "nbformat": 4,
 "nbformat_minor": 2
}
