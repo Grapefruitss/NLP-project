{
 "cells": [
  {
   "cell_type": "code",
   "execution_count": 5,
   "metadata": {},
   "outputs": [],
   "source": [
    "import time\n",
    "from selenium import webdriver\n",
    "from selenium.webdriver.chrome.service import Service\n",
    "from selenium.webdriver.common.keys import Keys\n",
    "from selenium.webdriver.common.by import By\n",
    "\n",
    "# 드라이버 경로 설정\n",
    "driver_path = r'C:\\Users\\user\\Desktop\\NLP project\\chromedriver-win64\\chromedriver.exe'"
   ]
  },
  {
   "cell_type": "code",
   "execution_count": 2,
   "metadata": {},
   "outputs": [],
   "source": [
    "# 드라이버 옵션 - 브라우저 실행하지 않고 크롤링\n",
    "options = webdriver.ChromeOptions()\n",
    "options.add_argument('--headless')\n",
    "\n",
    "# 드라이버 옵션 적용\n",
    "s = Service(driver_path)\n",
    "driver = webdriver.Chrome(service=s, options=options)"
   ]
  },
  {
   "cell_type": "code",
   "execution_count": 3,
   "metadata": {},
   "outputs": [],
   "source": [
    "# 합격 자소서 게시판 리스트화 후 각 리스트에서 각 자소서들의 링크만 수집\n",
    "url_list = ['https://www.jobkorea.co.kr/starter/PassAssay?FavorCo_Stat=0&Pass_An_Stat=1&OrderBy=2&EduType=0&WorkType=0&schPart=10031&isSaved=1&Page=' + str(x) for x in range(11, 18)]\n",
    "links = []\n",
    "for url in url_list:\n",
    "    driver.get(url)\n",
    "    time.sleep(3)\n",
    "    question_items = driver.find_elements(By.CSS_SELECTOR, 'div.item.question')\n",
    "    for item in question_items:\n",
    "        a_tag = item.find_element(By.TAG_NAME, 'a')\n",
    "        href = a_tag.get_attribute('href')\n",
    "        links.append(href)\n",
    "\n",
    "driver.quit()"
   ]
  },
  {
   "cell_type": "code",
   "execution_count": 4,
   "metadata": {},
   "outputs": [],
   "source": [
    "import csv\n",
    "\n",
    "with open('urls.csv', 'a', newline='') as file:\n",
    "    writer = csv.writer(file)\n",
    "    for link in links:\n",
    "        writer.writerow([link])"
   ]
  },
  {
   "cell_type": "code",
   "execution_count": 2,
   "metadata": {},
   "outputs": [
    {
     "data": {
      "text/plain": [
       "'https://www.jobkorea.co.kr/starter/PassAssay/View/236140?Page=1&OrderBy=2&FavorCo_Stat=0&schPart=10031&Pass_An_Stat=1'"
      ]
     },
     "execution_count": 2,
     "metadata": {},
     "output_type": "execute_result"
    }
   ],
   "source": [
    "import csv\n",
    "assay_urls = []\n",
    "with open('urls.csv', 'r') as file:\n",
    "    reader = csv.reader(file)\n",
    "    for row in reader:\n",
    "        assay_urls.append(row[0])\n",
    "\n",
    "assay_urls[0]"
   ]
  },
  {
   "cell_type": "code",
   "execution_count": 35,
   "metadata": {},
   "outputs": [],
   "source": [
    "# 드라이버 옵션 - 브라우저 실행하지 않고 크롤링\n",
    "options = webdriver.ChromeOptions()\n",
    "#options.add_argument('--headless')\n",
    "\n",
    "# 드라이버 옵션 적용\n",
    "s = Service(driver_path)\n",
    "driver = webdriver.Chrome(service=s, options=options)"
   ]
  },
  {
   "cell_type": "code",
   "execution_count": 62,
   "metadata": {},
   "outputs": [
    {
     "name": "stdout",
     "output_type": "stream",
     "text": [
      "[]\n"
     ]
    }
   ],
   "source": [
    "from selenium import webdriver\n",
    "from selenium.webdriver.common.by import By\n",
    "from selenium.webdriver.chrome.service import Service as ChromeService\n",
    "from webdriver_manager.chrome import ChromeDriverManager\n",
    "from selenium.webdriver.support.ui import WebDriverWait\n",
    "from selenium.webdriver.support import expected_conditions as EC\n",
    "from selenium.common.exceptions import TimeoutException\n",
    "from bs4 import BeautifulSoup\n",
    "\n",
    "# 웹 드라이버 설정 (ChromeDriverManager로 드라이버 자동 설치)\n",
    "driver = webdriver.Chrome(service=ChromeService(ChromeDriverManager().install()))\n",
    "\n",
    "# 웹 페이지 열기 (URL을 실제 페이지로 변경)\n",
    "driver.get('https://papago.naver.net/website?locale=ko&source=ko&target=en&url=https%3A%2F%2Fwww.jobkorea.co.kr%2Fstarter%2FPassAssay%2FView%2F236140%3FPage%3D1%26OrderBy%3D2%26FavorCo_Stat%3D0%26schPart%3D10031%26Pass_An_Stat%3D1')\n",
    "\n",
    "try:\n",
    "    # 페이지 로딩이 완료되었는지 확인\n",
    "    WebDriverWait(driver, 30).until(\n",
    "        lambda driver: driver.execute_script('return document.readyState') == 'complete'\n",
    "    )\n",
    "\n",
    "    text_items = driver.find_elements(By.CSS_SELECTOR, 'div.tx')\n",
    "    print(text_items)\n",
    "    #for item in question_items:\n",
    "#        a_tag = item.find_element(By.TAG_NAME, 'a')\n",
    "        #href = a_tag.get_attribute('href')\n",
    "        #links.append(href)\n",
    "    #if tx_element:\n",
    "        # 페이지 소스 가져오기\n",
    "        #page_source = tx_element.get_attribute('outerHTML')\n",
    "        \n",
    "        # BeautifulSoup을 사용하여 HTML 파싱\n",
    "        #soup = BeautifulSoup(page_source, 'lxml')\n",
    "        \n",
    "        # <font class='papago-parent'> 요소 찾기\n",
    "        #font_elements = soup.find_all('font', class_='papago-parent')\n",
    "        \n",
    "        # 각 <font> 요소의 텍스트 추출 및 출력\n",
    "        #for font in font_elements:\n",
    "            #font_text = font.get_text(strip=True)\n",
    "            #print(font_text)\n",
    "    #else:\n",
    "        #print(\"요소를 찾을 수 없습니다.\")\n",
    "        \n",
    "#except TimeoutException:\n",
    "    #print(\"요소를 찾는 데 시간이 초과되었습니다.\")\n",
    "    \n",
    "finally:\n",
    "    # 드라이버 종료\n",
    "    driver.quit()"
   ]
  },
  {
   "cell_type": "code",
   "execution_count": null,
   "metadata": {},
   "outputs": [],
   "source": []
  }
 ],
 "metadata": {
  "kernelspec": {
   "display_name": "base",
   "language": "python",
   "name": "python3"
  },
  "language_info": {
   "codemirror_mode": {
    "name": "ipython",
    "version": 3
   },
   "file_extension": ".py",
   "mimetype": "text/x-python",
   "name": "python",
   "nbconvert_exporter": "python",
   "pygments_lexer": "ipython3",
   "version": "3.11.7"
  }
 },
 "nbformat": 4,
 "nbformat_minor": 2
}
