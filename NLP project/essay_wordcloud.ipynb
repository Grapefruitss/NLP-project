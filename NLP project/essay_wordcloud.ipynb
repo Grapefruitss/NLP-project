{
 "cells": [
  {
   "cell_type": "code",
   "execution_count": null,
   "metadata": {},
   "outputs": [],
   "source": [
    "from wordcloud import WordCloud\n",
    "import numpy as np\n",
    "import pandas as pd\n",
    "import nltk                                   # Natural Language Tool Kit (영어).\n",
    "import matplotlib.pyplot as plt\n",
    "from PIL import Image                         # Pillow 패키지의 영상 핸들링 모듈.\n",
    "from nltk.corpus import stopwords             # 불용어.\n",
    "%matplotlib inline"
   ]
  },
  {
   "cell_type": "code",
   "execution_count": null,
   "metadata": {},
   "outputs": [],
   "source": [
    "# 정규화 된 문서 가져오기\n",
    "f = open(r\".\\crawling_data\\preprocessed_essay.csv\",'r')\n",
    "essays = f.readlines()\n",
    "f.close()"
   ]
  },
  {
   "cell_type": "code",
   "execution_count": null,
   "metadata": {},
   "outputs": [],
   "source": [
    "n_min = 4                                                           # 최소 단어 길이. \n",
    "good_corpus = []\n",
    "for essay in essays[:22]:\n",
    "    pre = nltk.word_tokenize(essay)\n",
    "    pre = [x for x in pre if len(x) >= n_min]                        # 최소 길이 충족.\n",
    "    pre = [x for x in pre if x not in stopwords.words('english')+['could']]   # 불용어 처리.\n",
    "    good_corpus += pre                                                   # 단어를 말뭉치에 추가."
   ]
  },
  {
   "cell_type": "code",
   "execution_count": null,
   "metadata": {},
   "outputs": [],
   "source": [
    "n_min = 4                                                           # 최소 단어 길이. \n",
    "bad_corpus = []\n",
    "for essay in essays[-16:]:\n",
    "    pre = nltk.word_tokenize(essay)\n",
    "    pre = [x for x in pre if len(x) >= n_min]                        # 최소 길이 충족.\n",
    "    pre = [x for x in pre if x not in stopwords.words('english')+['could']]   # 불용어 처리.\n",
    "    bad_corpus += pre                                                   # 단어를 말뭉치에 추가."
   ]
  },
  {
   "cell_type": "code",
   "execution_count": null,
   "metadata": {},
   "outputs": [],
   "source": [
    "# Series 로 변환.\n",
    "my_good_series = pd.Series(good_corpus)\n",
    "my_bad_series = pd.Series(bad_corpus)"
   ]
  },
  {
   "cell_type": "code",
   "execution_count": null,
   "metadata": {},
   "outputs": [],
   "source": [
    "# 도수 분포표. Top 10\n",
    "my_good_word_counts = my_good_series.value_counts().sort_values(ascending=False)\n",
    "my_good_word_counts[:25]"
   ]
  },
  {
   "cell_type": "code",
   "execution_count": null,
   "metadata": {},
   "outputs": [],
   "source": [
    "# 도수 분포표. Top 10\n",
    "my_bad_word_counts = my_bad_series.value_counts().sort_values(ascending=False)\n",
    "my_bad_word_counts[:25]"
   ]
  },
  {
   "cell_type": "code",
   "execution_count": null,
   "metadata": {},
   "outputs": [],
   "source": [
    "# 딕셔너리로 변환해 둔다.\n",
    "#my_dict = dict(my_word_counts)"
   ]
  },
  {
   "cell_type": "code",
   "execution_count": null,
   "metadata": {},
   "outputs": [],
   "source": [
    "# 다음은 워드클라우드의 요구사항.\n",
    "a_long_sentence = ' '.join(good_corpus)"
   ]
  },
  {
   "cell_type": "code",
   "execution_count": null,
   "metadata": {},
   "outputs": [],
   "source": [
    "wc = WordCloud(background_color='white', max_words=30)              # 바탕색, 단어 개수 등 설정.\n",
    "wc.generate(a_long_sentence)\n",
    "#wc.generate_from_frequencies(my_dict)\n",
    "#wc.words_"
   ]
  },
  {
   "cell_type": "code",
   "execution_count": null,
   "metadata": {},
   "outputs": [],
   "source": [
    "plt.figure(figsize=(10,10))\n",
    "plt.imshow(wc)\n",
    "plt.axis(\"off\")                                    # 축을 꺼줌.\n",
    "plt.show()"
   ]
  },
  {
   "cell_type": "code",
   "execution_count": null,
   "metadata": {},
   "outputs": [],
   "source": [
    "# 백그라운드 마스크\n",
    "#img = Image.open('background_1.png')                    # 타원형.\n",
    "#img = Image.open('background_2.png')                   # 말풍선.\n",
    "img = Image.open('background_3.png')                    # 하트.\n",
    "#plt.imshow(img)\n",
    "#plt.show()\n",
    "back_mask = np.array(img)"
   ]
  },
  {
   "cell_type": "code",
   "execution_count": null,
   "metadata": {},
   "outputs": [],
   "source": [
    "wc = WordCloud(background_color='white', max_words=30, mask=back_mask)            # 바탕색, 단어 개수 등 설정.\n",
    "# wc.generate(a_long_sentence);                                                   # 긴 문자열에서 생성.\n",
    "wc.generate_from_frequencies(my_dict);                                            # 딕셔너리에서 생성."
   ]
  },
  {
   "cell_type": "code",
   "execution_count": null,
   "metadata": {},
   "outputs": [],
   "source": [
    "plt.figure(figsize=(10,10))\n",
    "plt.imshow(wc, interpolation='bilinear')\n",
    "plt.axis(\"off\")                                    # 축을 꺼줌.\n",
    "plt.show()"
   ]
  },
  {
   "cell_type": "code",
   "execution_count": null,
   "metadata": {},
   "outputs": [],
   "source": []
  }
 ],
 "metadata": {
  "kernelspec": {
   "display_name": "base",
   "language": "python",
   "name": "python3"
  },
  "language_info": {
   "codemirror_mode": {
    "name": "ipython",
    "version": 3
   },
   "file_extension": ".py",
   "mimetype": "text/x-python",
   "name": "python",
   "nbconvert_exporter": "python",
   "pygments_lexer": "ipython3",
   "version": "3.11.7"
  }
 },
 "nbformat": 4,
 "nbformat_minor": 2
}
