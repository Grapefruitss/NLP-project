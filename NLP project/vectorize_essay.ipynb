{
 "cells": [
  {
   "cell_type": "markdown",
   "metadata": {},
   "source": [
    "### Essay Vectorize"
   ]
  },
  {
   "cell_type": "code",
   "execution_count": 5,
   "metadata": {},
   "outputs": [],
   "source": [
    "import numpy as np\n",
    "import re\n",
    "from gensim.models.doc2vec import Doc2Vec, TaggedDocument\n",
    "from nltk.corpus import stopwords\n",
    "from nltk.tokenize import word_tokenize\n",
    "from sklearn.metrics import confusion_matrix\n",
    "from sklearn.metrics import accuracy_score\n",
    "from sklearn.model_selection import train_test_split\n",
    "import csv"
   ]
  },
  {
   "cell_type": "code",
   "execution_count": null,
   "metadata": {},
   "outputs": [],
   "source": [
    "# 셀에서 출력 정확도 설정.\n",
    "%precision %.3f"
   ]
  },
  {
   "cell_type": "code",
   "execution_count": null,
   "metadata": {},
   "outputs": [],
   "source": [
    "file_path = r'.\\crawling_data\\merged_good_translated_essay.csv'\n",
    "\n",
    "# 자소서 리스트화\n",
    "documents = []\n",
    "with open(file_path, 'r') as f:\n",
    "    reader = csv.reader(f)\n",
    "    for row in reader:\n",
    "        documents.append(row[0])"
   ]
  },
  {
   "cell_type": "code",
   "execution_count": null,
   "metadata": {},
   "outputs": [],
   "source": [
    "# 불용어 리스트 가져오기\n",
    "stop_words = set(stopwords.words('english'))\n",
    "\n",
    "def preprocess(text):\n",
    "    tokens = word_tokenize(text.lower())\n",
    "    filtered_tokens = [word for word in tokens if word.isalpha() and word not in stop_words]\n",
    "    return filtered_tokens"
   ]
  },
  {
   "cell_type": "code",
   "execution_count": null,
   "metadata": {},
   "outputs": [],
   "source": [
    "documents_corpus = []\n",
    "for i in range(len(documents)):\n",
    "    document = preprocess(documents[i])\n",
    "    document = re.sub(r'\\W', ' ', document)\n",
    "    document = re.sub(r'_', ' ', document)\n",
    "    document = re.sub(r'^br$', ' ', document)\n",
    "    document = re.sub(r'\\s+br\\s+',' ',document)\n",
    "    document = re.sub(r'\\s+[a-z]\\s+', ' ',document)\n",
    "    document = re.sub(r'^b\\s+', '', document)\n",
    "    document = re.sub(r'\\s+', ' ', document)               # 잉여 space 제거.\n",
    "    document = re.sub(\",|\\n|@|:\", \"\", document)            # 쉼표, \\n, @ 제거\n",
    "    document = re.sub(r'\\([^)]*\\)', '', document)          # 소괄호 제거\n",
    "    documents_corpus.append(document)"
   ]
  },
  {
   "cell_type": "code",
   "execution_count": null,
   "metadata": {},
   "outputs": [],
   "source": [
    "# Tagged Corpus 생성.\n",
    "# 모델 학습에 필요한 형태로 변환.\n",
    "my_tagged_corpus = [TaggedDocument(words=my_words, tags=[i]) for i, my_words in enumerate(documents_corpus)]"
   ]
  },
  {
   "cell_type": "code",
   "execution_count": null,
   "metadata": {},
   "outputs": [],
   "source": [
    "# Doc2Vec 모델 생성과 준비.\n",
    "my_model = Doc2Vec(\n",
    "    window=5,                # 문맥을 고려하는 단어의 최대 거리.\n",
    "    vector_size=130,         # 벡터 크기\n",
    "    alpha=0.025,             # 모델의 학습속도.\n",
    "    min_alpha=0.025,\n",
    "    workers = 8,             # 학습을 병렬화하기 위한 스레드 수.\n",
    "    min_count=3,             # 최소 단어 빈도.\n",
    "    dm = 0,                  # dm = '0'이면 DBOW. dm = '1' 이면 DM.\n",
    "    negative = 6,            # Negative sampling 수.\n",
    "    seed = 1234)             # 난수 seed.\n",
    "\n",
    "# 모델 학습 전 필요한 단계.\n",
    "my_model.build_vocab(my_tagged_corpus)"
   ]
  },
  {
   "cell_type": "code",
   "execution_count": null,
   "metadata": {},
   "outputs": [],
   "source": [
    "# Doc2Vec 모델 학습.\n",
    "max_epochs = 11\n",
    "for epoch in range(max_epochs):\n",
    "    print('Iteration #{}'.format(epoch))\n",
    "    my_model.train(my_tagged_corpus,\n",
    "                total_examples=len(my_corpus),\n",
    "                epochs=10)\n",
    "    my_model.alpha -= 0.002                  # 학습 속도 점진적 감소.\n",
    "    my_model.min_alpha = my_model.alpha\n",
    "my_model.save('my_model.d2v')"
   ]
  }
 ],
 "metadata": {
  "kernelspec": {
   "display_name": "Python 3 (ipykernel)",
   "language": "python",
   "name": "python3"
  },
  "language_info": {
   "codemirror_mode": {
    "name": "ipython",
    "version": 3
   },
   "file_extension": ".py",
   "mimetype": "text/x-python",
   "name": "python",
   "nbconvert_exporter": "python",
   "pygments_lexer": "ipython3",
   "version": "3.11.7"
  }
 },
 "nbformat": 4,
 "nbformat_minor": 2
}
